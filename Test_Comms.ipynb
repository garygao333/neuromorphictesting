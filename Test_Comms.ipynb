{
 "cells": [
  {
   "cell_type": "code",
   "execution_count": 1,
   "id": "9305b15d-2444-46c8-bbd2-6f4b2dc757d2",
   "metadata": {},
   "outputs": [],
   "source": [
    "import serial\n",
    "# from ReadLine import read_safe, send_message, clear_output, interpret\n",
    "from func_timeout import func_timeout, FunctionTimedOut\n",
    "import numpy as np\n",
    "import ast\n",
    "from matplotlib import pyplot as plt\n",
    "import time\n",
    "import json"
   ]
  },
  {
   "cell_type": "code",
   "execution_count": 2,
   "id": "0dfd5125-5d6b-4f73-ad9e-8e47c47cb1a5",
   "metadata": {},
   "outputs": [
    {
     "name": "stdout",
     "output_type": "stream",
     "text": [
      "Serial<id=0x112cf0100, open=False>(port='/dev/tty.usbmodem101', baudrate=250000, bytesize=8, parity='N', stopbits=1, timeout=None, xonxoff=False, rtscts=False, dsrdtr=False)\n"
     ]
    }
   ],
   "source": [
    "ser = serial.Serial()  # open serial port\n",
    "ser.port=\"/dev/tty.usbmodem101\"\n",
    "ser.baudrate=250000\n",
    "print(ser)"
   ]
  },
  {
   "cell_type": "code",
   "execution_count": 5,
   "id": "e5e7b40f-0ca7-432f-b7c2-ea9ff8001725",
   "metadata": {
    "scrolled": true
   },
   "outputs": [
    {
     "data": {
      "text/plain": [
       "True"
      ]
     },
     "execution_count": 5,
     "metadata": {},
     "output_type": "execute_result"
    }
   ],
   "source": [
    "ser.is_open"
   ]
  },
  {
   "cell_type": "code",
   "execution_count": 4,
   "id": "1888f550-e3f9-47c3-bb4a-e364afc7c1ff",
   "metadata": {},
   "outputs": [],
   "source": [
    "ser.open()"
   ]
  },
  {
   "cell_type": "markdown",
   "id": "838d9c4a-03c0-41f4-9cd5-ba3d45b552d4",
   "metadata": {},
   "source": [
    "The Comms Class (implementation of the Readline class) "
   ]
  },
  {
   "cell_type": "code",
   "execution_count": 6,
   "id": "288fa716-bbfd-46f6-8169-589903eef15d",
   "metadata": {},
   "outputs": [],
   "source": [
    "class CommsReadline: \n",
    "    def __init__ (self, serial_conn, divider=\":\"):\n",
    "        self.ser = serial_conn\n",
    "        self.divider = divider\n",
    "\n",
    "    def input_timeout(self, timeout, *args):\n",
    "        try:\n",
    "            return func_timeout(timeout, input, args=args)\n",
    "        except FunctionTimedOut:\n",
    "            pass\n",
    "    def read_safe(self, timeoutval = 0.1):\n",
    "        try:\n",
    "            line = func_timeout(timeoutval, self.ser.readline)\n",
    "            # print(line)\n",
    "            return(line)\n",
    "        except FunctionTimedOut:\n",
    "            # print(\"Exception: No line to read\")\n",
    "            return(None)\n",
    "    \n",
    "    def send_message(self, message):\n",
    "        self.ser.write((message + \"\\n\").encode())\n",
    "        time.sleep(0.2)\n",
    "    \n",
    "    def clear_output(self):\n",
    "        data = 1\n",
    "        while data is not None:\n",
    "            data = self.read_safe()\n",
    "    \n",
    "    def interpret(self, byteval):\n",
    "        if byteval is None:\n",
    "            return\n",
    "        strval = byteval.decode(\"utf-8\")\n",
    "        # print(strval, \"printing the strval\")\n",
    "        messages = strval.split(\"\\r\")[0].split(self.divider)\n",
    "        # print(messages)\n",
    "        try:\n",
    "            msgtype = messages[1]\n",
    "            if msgtype == 'msg':\n",
    "                msg = messages[2]\n",
    "                # print(msg)\n",
    "                return msg, None\n",
    "            elif msgtype == 'msgvar':\n",
    "                varname = messages[2]\n",
    "                val = messages[3]\n",
    "                print(\"{}, {}\".format(varname,val))\n",
    "                return varname, val\n",
    "            elif msgtype == '1Darr':\n",
    "                varname = messages[2]\n",
    "                array = ast.literal_eval(messages[3])\n",
    "                # print(\"{}, {}\".format(varname,len(array)))\n",
    "                return varname, array\n",
    "            else:\n",
    "                return None, None\n",
    "        except: \n",
    "            print(\"exception:\")\n",
    "            print(messages)\n",
    "            return (None, None)"
   ]
  },
  {
   "cell_type": "code",
   "execution_count": 40,
   "id": "79559179-04c3-4475-a528-4f56b0baf795",
   "metadata": {},
   "outputs": [],
   "source": [
    "# def clear_output(ser):\n",
    "#     data = 1\n",
    "#     while data is not None:\n",
    "#         data = read_safe(ser)"
   ]
  },
  {
   "cell_type": "code",
   "execution_count": 41,
   "id": "2e89e0fb-4781-4013-b09f-a9cb86f4154c",
   "metadata": {},
   "outputs": [],
   "source": [
    "# def read_safe(ser, timeoutval = 0.1):\n",
    "#     try:\n",
    "#         line = func_timeout(timeoutval, ser.readline)\n",
    "#         # print(line)\n",
    "#         return(line)\n",
    "#     except FunctionTimedOut:\n",
    "#         # print(\"Exception: No line to read\")\n",
    "#         return(None)"
   ]
  },
  {
   "cell_type": "code",
   "execution_count": 42,
   "id": "3925357a-0a9c-41fd-b4a5-b9e9740b256c",
   "metadata": {},
   "outputs": [],
   "source": [
    "# def send_message(ser, message, divider=\":\"):\n",
    "#     ser.write((message + \"\\n\").encode())\n",
    "#     time.sleep(0.2)"
   ]
  },
  {
   "cell_type": "code",
   "execution_count": 44,
   "id": "37fe3309-d4c5-4cf2-924b-8bc2b86c4a2d",
   "metadata": {},
   "outputs": [],
   "source": [
    "# send_message(ser, \"print;\")"
   ]
  },
  {
   "cell_type": "code",
   "execution_count": 47,
   "id": "2c2b30b3-600f-458a-9055-d59e509e534f",
   "metadata": {},
   "outputs": [],
   "source": [
    "# clear_output(ser)\n",
    "# read_safe(ser)"
   ]
  },
  {
   "cell_type": "markdown",
   "id": "c7b698b3-f4eb-474b-afbe-13de774a3eb6",
   "metadata": {},
   "source": [
    "Instantiating the comms object"
   ]
  },
  {
   "cell_type": "code",
   "execution_count": 7,
   "id": "88c55e4d-3497-465b-95f9-8cedba760029",
   "metadata": {},
   "outputs": [],
   "source": [
    "comms = CommsReadline(ser)"
   ]
  },
  {
   "cell_type": "code",
   "execution_count": 7,
   "id": "a282a546-cef6-4f83-8875-eac28f804b43",
   "metadata": {},
   "outputs": [],
   "source": [
    "comms.send_message(\"print;\")"
   ]
  },
  {
   "cell_type": "code",
   "execution_count": 8,
   "id": "7b69b53c-e6b9-44fa-8dce-2ee33cbd5045",
   "metadata": {},
   "outputs": [],
   "source": [
    "# comms.send_message(\"addparam;FBshift;baseline;offset;width;\")\n",
    "# comms.send_message(\"print;\")\n",
    "# data=1\n",
    "# while data is not None:\n",
    "#     data = comms.read_safe()"
   ]
  },
  {
   "cell_type": "code",
   "execution_count": 9,
   "id": "45c38851-f873-4bf0-8e01-3e8a17608a80",
   "metadata": {},
   "outputs": [],
   "source": [
    "# comms.send_message(\"print;\")\n",
    "# data=1\n",
    "# while data is not None:\n",
    "#     data = comms.read_safe()"
   ]
  },
  {
   "cell_type": "code",
   "execution_count": 10,
   "id": "4d263319-288c-4a51-96b5-e1735a8f682b",
   "metadata": {},
   "outputs": [
    {
     "name": "stdout",
     "output_type": "stream",
     "text": [
      "['    ', 'msgvar', 'FBshift', '0', '    ']\n",
      "FBshift, 0\n"
     ]
    },
    {
     "data": {
      "text/plain": [
       "('FBshift', '0')"
      ]
     },
     "execution_count": 10,
     "metadata": {},
     "output_type": "execute_result"
    }
   ],
   "source": [
    "# comms.send_message(\"print;\")\n",
    "# data = comms.read_safe()\n",
    "# comms.interpret(data)"
   ]
  },
  {
   "cell_type": "code",
   "execution_count": 10,
   "id": "dc3ed22b-5f4b-458b-9723-15821f8bae90",
   "metadata": {},
   "outputs": [],
   "source": [
    "# comms.clear_output()"
   ]
  },
  {
   "cell_type": "code",
   "execution_count": 8,
   "id": "02a94fdb-4b7f-4125-a408-c6f78eeae103",
   "metadata": {},
   "outputs": [],
   "source": [
    "# comms.send_message(\"addparam;FBshift;baseline;offset;width;\")"
   ]
  },
  {
   "cell_type": "code",
   "execution_count": 23,
   "id": "aa98888e-52e1-4817-87f1-e4e145ff65e6",
   "metadata": {},
   "outputs": [],
   "source": [
    "# comms.send_message(\"resetparam;\")"
   ]
  },
  {
   "cell_type": "code",
   "execution_count": 24,
   "id": "7aec8746-05ef-46f1-a6c2-004eac18e796",
   "metadata": {},
   "outputs": [],
   "source": [
    "# comms.send_message(\"addparam;FBshift;baseline;offset;width;\")"
   ]
  },
  {
   "cell_type": "code",
   "execution_count": 8,
   "id": "30bcd7af-3e16-4950-91e1-0f409cce9cab",
   "metadata": {},
   "outputs": [
    {
     "name": "stdout",
     "output_type": "stream",
     "text": [
      "FBshift, 0\n",
      "baseline, 0\n",
      "offset, 0\n",
      "width, 0\n"
     ]
    }
   ],
   "source": [
    "# comms.send_message(\"resetparam;\")\n",
    "comms.send_message(\"print;\")\n",
    "data = 1\n",
    "\n",
    "initializeDict = False\n",
    "listODicts = []\n",
    "while data is not None:\n",
    "    data = comms.read_safe()\n",
    "    # print(data)\n",
    "    if data is None:\n",
    "        break\n",
    "    varname, val = comms.interpret(data)\n",
    "\n",
    "    if varname == \"finished\":\n",
    "        break\n",
    "\n",
    "    if varname == \"finalize\":\n",
    "        initializeDict = False\n",
    "        listODicts.append(placeholderDict)\n",
    "    \n",
    "    if initializeDict:\n",
    "        placeholderDict[varname] = val\n",
    "    \n",
    "    if varname == \"initialize\":\n",
    "        initializeDict = True\n",
    "        placeholderDict = {}"
   ]
  },
  {
   "cell_type": "code",
   "execution_count": 10,
   "id": "0a191eb7-ac73-4834-a2cb-17a9258f5194",
   "metadata": {},
   "outputs": [],
   "source": [
    "comms.clear_output()"
   ]
  },
  {
   "cell_type": "code",
   "execution_count": 11,
   "id": "3c054a6f-9795-412f-8f22-71ac71d5f411",
   "metadata": {},
   "outputs": [
    {
     "name": "stdout",
     "output_type": "stream",
     "text": [
      "None\n"
     ]
    }
   ],
   "source": [
    "comms.send_message(\"Z\")\n",
    "data = 1\n",
    "\n",
    "initializeDict = False\n",
    "listODicts = []\n",
    "while data is not None:\n",
    "    data = comms.read_safe()\n",
    "    print(data)"
   ]
  },
  {
   "cell_type": "code",
   "execution_count": null,
   "id": "f68e4a4e-62f8-4ee6-a64a-4de563145db8",
   "metadata": {
    "scrolled": true
   },
   "outputs": [],
   "source": [
    "comms.clear_output()\n",
    "\n",
    "comms.send_message(\"X\")\n",
    "data = 1\n",
    "\n",
    "initializeDict = False\n",
    "listODicts = []\n",
    "while data is not None:\n",
    "    data = comms.read_safe(timeoutval = 1000.)\n",
    "    if data is None:\n",
    "        break\n",
    "    varname, val = comms.interpret(data)\n",
    "\n",
    "    if varname == \"finished\":\n",
    "        break\n",
    "\n",
    "    if varname == \"finalize\":\n",
    "        initializeDict = False\n",
    "        listODicts.append(placeholderDict)\n",
    "    \n",
    "    if initializeDict:\n",
    "        placeholderDict[varname] = val\n",
    "    \n",
    "    if varname == \"initialize\":\n",
    "        initializeDict = True\n",
    "        placeholderDict = {}\n",
    "print(listODicts)"
   ]
  },
  {
   "cell_type": "code",
   "execution_count": null,
   "id": "d0afb0ae-c8b3-4b3a-804b-9b8f9f26d23b",
   "metadata": {},
   "outputs": [],
   "source": [
    "len(listODicts)"
   ]
  },
  {
   "cell_type": "code",
   "execution_count": null,
   "id": "9ae436ff-7aa2-490a-8997-2572a663ae01",
   "metadata": {},
   "outputs": [],
   "source": [
    "for key, val in listODicts[0].items():\n",
    "    print(key)\n",
    "    if isinstance(val, list):\n",
    "        print(len(val))"
   ]
  },
  {
   "cell_type": "code",
   "execution_count": 10,
   "id": "d5a9a55b-f63c-4bc1-bf6e-79d0b9624bb1",
   "metadata": {},
   "outputs": [],
   "source": [
    "ser.close()"
   ]
  },
  {
   "cell_type": "code",
   "execution_count": 77,
   "id": "5968b6ad-dfa2-4b1f-89a3-33c64b8b1d74",
   "metadata": {
    "scrolled": true
   },
   "outputs": [],
   "source": [
    "with open('data/biastest_all_FCswitched.json', 'w') as f:\n",
    "     json.dump(listODicts, f)"
   ]
  }
 ],
 "metadata": {
  "kernelspec": {
   "display_name": "Python 3 (ipykernel)",
   "language": "python",
   "name": "python3"
  },
  "language_info": {
   "codemirror_mode": {
    "name": "ipython",
    "version": 3
   },
   "file_extension": ".py",
   "mimetype": "text/x-python",
   "name": "python",
   "nbconvert_exporter": "python",
   "pygments_lexer": "ipython3",
   "version": "3.11.6"
  }
 },
 "nbformat": 4,
 "nbformat_minor": 5
}
