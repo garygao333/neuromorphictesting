{
 "cells": [
  {
   "cell_type": "code",
   "execution_count": null,
   "id": "4bb8358d-0edf-46a3-8974-c989e166a4de",
   "metadata": {},
   "outputs": [],
   "source": [
    "!pip install func_timeout"
   ]
  },
  {
   "cell_type": "code",
   "execution_count": null,
   "id": "cdb0d2fc-15ba-43b2-b952-0d6f0065e573",
   "metadata": {},
   "outputs": [],
   "source": [
    "import sys\n",
    "import time\n",
    "print(sys.executable)"
   ]
  },
  {
   "cell_type": "code",
   "execution_count": null,
   "id": "b7de5523-4f2b-43fb-86a5-00ee9dd83f7f",
   "metadata": {},
   "outputs": [],
   "source": [
    "!which python\n",
    "!which pip"
   ]
  },
  {
   "cell_type": "code",
   "execution_count": null,
   "id": "bdbe7cbe-b1fc-408b-87c6-787d7daea526",
   "metadata": {},
   "outputs": [],
   "source": [
    "!{sys.executable} -m pip install func_timeout"
   ]
  },
  {
   "cell_type": "code",
   "execution_count": 53,
   "id": "fb3cd621-6b10-4290-bd9d-5d94c601b0bd",
   "metadata": {},
   "outputs": [
    {
     "name": "stdout",
     "output_type": "stream",
     "text": [
      "/Users/garygao/Desktop/Learning\n"
     ]
    }
   ],
   "source": [
    "import os\n",
    "os.chdir('/Users/garygao/Desktop/Learning')\n",
    "print(os.getcwd()) "
   ]
  },
  {
   "cell_type": "code",
   "execution_count": 54,
   "id": "9305b15d-2444-46c8-bbd2-6f4b2dc757d2",
   "metadata": {},
   "outputs": [],
   "source": [
    "import serial\n",
    "import ReadLine \n",
    "from ReadLine import read_safe\n",
    "import numpy as np\n",
    "import ast\n",
    "from matplotlib import pyplot as plt"
   ]
  },
  {
   "cell_type": "code",
   "execution_count": 55,
   "id": "0855b345-b7d4-4d2d-9e92-be2d26534e83",
   "metadata": {},
   "outputs": [],
   "source": [
    "def interpret_array(byteval, divider=\":\"):\n",
    "    strval = byteval.decode(\"utf-8\")\n",
    "    _, varname, data, shape = strval.split(\"\\r\")[0].split(divider)\n",
    "    data = ast.literal_eval(data)\n",
    "    shape = ast.literal_eval(shape)\n",
    "    data = np.array(data)\n",
    "    \n",
    "    reshaped_data = data.reshape(shape)\n",
    "\n",
    "    print(\"{} = {}\".format(varname, reshaped_data))"
   ]
  },
  {
   "cell_type": "code",
   "execution_count": 56,
   "id": "aa06d053-5ced-4eb7-b5c9-bdb7c73a1f57",
   "metadata": {},
   "outputs": [],
   "source": [
    "def interpret_message(byteval, divider=\":\"):\n",
    "    strval = byteval.decode(\"utf-8\")\n",
    "    messages = strval.split(\"\\r\")[0].split(divider)\n",
    "    # print(messages)\n",
    "    try:\n",
    "        message = messages[1]\n",
    "        print(message)\n",
    "    except: \n",
    "        print(\"exception:\")\n",
    "        print(messages)"
   ]
  },
  {
   "cell_type": "code",
   "execution_count": 57,
   "id": "53f48411-28f4-47e7-921c-240eccc9ae6b",
   "metadata": {},
   "outputs": [],
   "source": [
    "def continuous_lineread():\n",
    "    data = read_safe(ser)\n",
    "    if data: #if you find something\n",
    "        if sendData: #if it's sending data\n",
    "            print(\"sendData is true\")\n",
    "            try:\n",
    "                interpret_array(data)\n",
    "            except:\n",
    "                pass\n",
    "        try:\n",
    "            interpret_message(data)\n",
    "        except:\n",
    "            print(data)"
   ]
  },
  {
   "cell_type": "code",
   "execution_count": 58,
   "id": "b7f0af41-b6b8-4a5d-b585-696dbcbc33ea",
   "metadata": {},
   "outputs": [],
   "source": [
    "def send_message(message):\n",
    "    ser.write((message + \"\\n\").encode())\n",
    "    time.sleep(0.2)\n",
    "    while ser.in_waiting:\n",
    "        print(ser.readline().decode().strip())"
   ]
  },
  {
   "cell_type": "code",
   "execution_count": 59,
   "id": "0dfd5125-5d6b-4f73-ad9e-8e47c47cb1a5",
   "metadata": {},
   "outputs": [
    {
     "name": "stdout",
     "output_type": "stream",
     "text": [
      "Serial<id=0x117f148b0, open=True>(port='/dev/tty.usbmodem101', baudrate=250000, bytesize=8, parity='N', stopbits=1, timeout=None, xonxoff=False, rtscts=False, dsrdtr=False)\n"
     ]
    }
   ],
   "source": [
    "ser = serial.Serial('/dev/tty.usbmodem101', 9600)\n",
    "ser.baudrate=250000\n",
    "print(ser)   "
   ]
  },
  {
   "cell_type": "code",
   "execution_count": null,
   "id": "e5e7b40f-0ca7-432f-b7c2-ea9ff8001725",
   "metadata": {
    "scrolled": true
   },
   "outputs": [],
   "source": [
    "ser.is_open"
   ]
  },
  {
   "cell_type": "code",
   "execution_count": 68,
   "id": "1888f550-e3f9-47c3-bb4a-e364afc7c1ff",
   "metadata": {},
   "outputs": [],
   "source": [
    "ser.open()"
   ]
  },
  {
   "cell_type": "markdown",
   "id": "7c32c7c2-a55b-4252-8525-9b15c609b46e",
   "metadata": {},
   "source": [
    "Testing sending and recieving data"
   ]
  },
  {
   "cell_type": "code",
   "execution_count": null,
   "id": "05a6ba0e-5972-4de1-abb5-47ad29c533dc",
   "metadata": {},
   "outputs": [],
   "source": [
    "msg = read_safe(ser)\n",
    "\n",
    "interpret_message(msg)"
   ]
  },
  {
   "cell_type": "code",
   "execution_count": null,
   "id": "3135ec5d-e9bb-493a-81c2-85881939d42c",
   "metadata": {},
   "outputs": [],
   "source": [
    "send_message(\"print;\")"
   ]
  },
  {
   "cell_type": "code",
   "execution_count": null,
   "id": "a267e227-30fd-4f61-b802-dff4743814e9",
   "metadata": {},
   "outputs": [],
   "source": [
    "new_parameters = \"receive;ETA;128;GMN;30;ALF;100;EPO;1000;MES;100;NMS;4;NSR;1;NTR;1;NEG;3;NDR;2;NDS;1;\"\n",
    "send_message(new_parameters)"
   ]
  },
  {
   "cell_type": "code",
   "execution_count": null,
   "id": "baaf80f8-acb8-4758-9e7d-5f89cd2a59aa",
   "metadata": {},
   "outputs": [],
   "source": [
    "send_message(\"print;\")"
   ]
  },
  {
   "cell_type": "code",
   "execution_count": 66,
   "id": "d5a9a55b-f63c-4bc1-bf6e-79d0b9624bb1",
   "metadata": {},
   "outputs": [],
   "source": [
    "ser.close()"
   ]
  }
 ],
 "metadata": {
  "kernelspec": {
   "display_name": "Python 3 (ipykernel)",
   "language": "python",
   "name": "python3"
  },
  "language_info": {
   "codemirror_mode": {
    "name": "ipython",
    "version": 3
   },
   "file_extension": ".py",
   "mimetype": "text/x-python",
   "name": "python",
   "nbconvert_exporter": "python",
   "pygments_lexer": "ipython3",
   "version": "3.11.6"
  }
 },
 "nbformat": 4,
 "nbformat_minor": 5
}
