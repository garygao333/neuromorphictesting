{
 "cells": [
  {
   "cell_type": "code",
   "execution_count": 1,
   "id": "4bb8358d-0edf-46a3-8974-c989e166a4de",
   "metadata": {},
   "outputs": [
    {
     "name": "stdout",
     "output_type": "stream",
     "text": [
      "Requirement already satisfied: func_timeout in /Users/garygao/miniconda3/lib/python3.12/site-packages (4.3.5)\n"
     ]
    }
   ],
   "source": [
    "!pip install func_timeout"
   ]
  },
  {
   "cell_type": "code",
   "execution_count": 9,
   "id": "cdb0d2fc-15ba-43b2-b952-0d6f0065e573",
   "metadata": {},
   "outputs": [
    {
     "name": "stdout",
     "output_type": "stream",
     "text": [
      "/usr/local/bin/python3\n"
     ]
    }
   ],
   "source": [
    "import sys\n",
    "import time\n",
    "print(sys.executable)"
   ]
  },
  {
   "cell_type": "code",
   "execution_count": 3,
   "id": "b7de5523-4f2b-43fb-86a5-00ee9dd83f7f",
   "metadata": {},
   "outputs": [
    {
     "name": "stdout",
     "output_type": "stream",
     "text": [
      "/Users/garygao/miniconda3/bin/python\n",
      "/Users/garygao/miniconda3/bin/pip\n"
     ]
    }
   ],
   "source": [
    "!which python\n",
    "!which pip"
   ]
  },
  {
   "cell_type": "code",
   "execution_count": 4,
   "id": "bdbe7cbe-b1fc-408b-87c6-787d7daea526",
   "metadata": {},
   "outputs": [
    {
     "name": "stdout",
     "output_type": "stream",
     "text": [
      "Requirement already satisfied: func_timeout in /Library/Frameworks/Python.framework/Versions/3.11/lib/python3.11/site-packages (4.3.5)\n",
      "\n",
      "\u001b[1m[\u001b[0m\u001b[34;49mnotice\u001b[0m\u001b[1;39;49m]\u001b[0m\u001b[39;49m A new release of pip is available: \u001b[0m\u001b[31;49m25.0\u001b[0m\u001b[39;49m -> \u001b[0m\u001b[32;49m25.0.1\u001b[0m\n",
      "\u001b[1m[\u001b[0m\u001b[34;49mnotice\u001b[0m\u001b[1;39;49m]\u001b[0m\u001b[39;49m To update, run: \u001b[0m\u001b[32;49mpython3 -m pip install --upgrade pip\u001b[0m\n"
     ]
    }
   ],
   "source": [
    "!{sys.executable} -m pip install func_timeout"
   ]
  },
  {
   "cell_type": "code",
   "execution_count": 5,
   "id": "fb3cd621-6b10-4290-bd9d-5d94c601b0bd",
   "metadata": {},
   "outputs": [
    {
     "name": "stdout",
     "output_type": "stream",
     "text": [
      "/Users/garygao/Desktop/Learning\n"
     ]
    }
   ],
   "source": [
    "import os\n",
    "os.chdir('/Users/garygao/Desktop/Learning')\n",
    "print(os.getcwd()) "
   ]
  },
  {
   "cell_type": "code",
   "execution_count": 1,
   "id": "9305b15d-2444-46c8-bbd2-6f4b2dc757d2",
   "metadata": {},
   "outputs": [],
   "source": [
    "import serial\n",
    "import ReadLine \n",
    "from ReadLine import read_safe\n",
    "import numpy as np\n",
    "import ast\n",
    "from matplotlib import pyplot as plt"
   ]
  },
  {
   "cell_type": "code",
   "execution_count": 2,
   "id": "0855b345-b7d4-4d2d-9e92-be2d26534e83",
   "metadata": {},
   "outputs": [],
   "source": [
    "def interpret_array(byteval, divider=\":\"):\n",
    "    strval = byteval.decode(\"utf-8\")\n",
    "    _, varname, data, shape = strval.split(\"\\r\")[0].split(divider)\n",
    "    data = ast.literal_eval(data)\n",
    "    shape = ast.literal_eval(shape)\n",
    "    data = np.array(data)\n",
    "    \n",
    "    reshaped_data = data.reshape(shape)\n",
    "\n",
    "    print(\"{} = {}\".format(varname, reshaped_data))"
   ]
  },
  {
   "cell_type": "code",
   "execution_count": 3,
   "id": "aa06d053-5ced-4eb7-b5c9-bdb7c73a1f57",
   "metadata": {},
   "outputs": [],
   "source": [
    "def interpret_message(byteval, divider=\":\"):\n",
    "    strval = byteval.decode(\"utf-8\")\n",
    "    messages = strval.split(\"\\r\")[0].split(divider)\n",
    "    # print(messages)\n",
    "    try:\n",
    "        message = messages[1]\n",
    "        print(message)\n",
    "    except: \n",
    "        print(\"exception:\")\n",
    "        print(messages)"
   ]
  },
  {
   "cell_type": "code",
   "execution_count": 4,
   "id": "53f48411-28f4-47e7-921c-240eccc9ae6b",
   "metadata": {},
   "outputs": [],
   "source": [
    "def continuous_lineread():\n",
    "    data = read_safe(ser)\n",
    "    if data: #if you find something\n",
    "        if sendData: #if it's sending data\n",
    "            print(\"sendData is true\")\n",
    "            try:\n",
    "                interpret_array(data)\n",
    "            except:\n",
    "                pass\n",
    "        try:\n",
    "            interpret_message(data)\n",
    "        except:\n",
    "            print(data)"
   ]
  },
  {
   "cell_type": "code",
   "execution_count": 5,
   "id": "b7f0af41-b6b8-4a5d-b585-696dbcbc33ea",
   "metadata": {},
   "outputs": [],
   "source": [
    "def send_message(message):\n",
    "    ser.write((message + \"\\n\").encode())\n",
    "    time.sleep(0.2)\n",
    "    while ser.in_waiting:\n",
    "        print(ser.readline().decode().strip())"
   ]
  },
  {
   "cell_type": "code",
   "execution_count": 6,
   "id": "0dfd5125-5d6b-4f73-ad9e-8e47c47cb1a5",
   "metadata": {},
   "outputs": [
    {
     "name": "stdout",
     "output_type": "stream",
     "text": [
      "Serial<id=0x11a4c2c20, open=True>(port='/dev/tty.usbmodem101', baudrate=250000, bytesize=8, parity='N', stopbits=1, timeout=None, xonxoff=False, rtscts=False, dsrdtr=False)\n"
     ]
    }
   ],
   "source": [
    "ser = serial.Serial('/dev/tty.usbmodem101', 9600)\n",
    "ser.baudrate=250000\n",
    "print(ser)   "
   ]
  },
  {
   "cell_type": "code",
   "execution_count": 7,
   "id": "e5e7b40f-0ca7-432f-b7c2-ea9ff8001725",
   "metadata": {
    "scrolled": true
   },
   "outputs": [
    {
     "data": {
      "text/plain": [
       "True"
      ]
     },
     "execution_count": 7,
     "metadata": {},
     "output_type": "execute_result"
    }
   ],
   "source": [
    "ser.is_open"
   ]
  },
  {
   "cell_type": "code",
   "execution_count": 20,
   "id": "1888f550-e3f9-47c3-bb4a-e364afc7c1ff",
   "metadata": {},
   "outputs": [],
   "source": [
    "ser.open()"
   ]
  },
  {
   "cell_type": "markdown",
   "id": "7c32c7c2-a55b-4252-8525-9b15c609b46e",
   "metadata": {},
   "source": [
    "Testing sending and recieving data"
   ]
  },
  {
   "cell_type": "code",
   "execution_count": 83,
   "id": "05a6ba0e-5972-4de1-abb5-47ad29c533dc",
   "metadata": {},
   "outputs": [
    {
     "ename": "AttributeError",
     "evalue": "'NoneType' object has no attribute 'decode'",
     "output_type": "error",
     "traceback": [
      "\u001b[0;31m---------------------------------------------------------------------------\u001b[0m",
      "\u001b[0;31mAttributeError\u001b[0m                            Traceback (most recent call last)",
      "Cell \u001b[0;32mIn[83], line 3\u001b[0m\n\u001b[1;32m      1\u001b[0m msg \u001b[38;5;241m=\u001b[39m read_safe(ser)\n\u001b[0;32m----> 3\u001b[0m \u001b[43minterpret_message\u001b[49m\u001b[43m(\u001b[49m\u001b[43mmsg\u001b[49m\u001b[43m)\u001b[49m\n",
      "Cell \u001b[0;32mIn[78], line 2\u001b[0m, in \u001b[0;36minterpret_message\u001b[0;34m(byteval, divider)\u001b[0m\n\u001b[1;32m      1\u001b[0m \u001b[38;5;28;01mdef\u001b[39;00m \u001b[38;5;21minterpret_message\u001b[39m(byteval, divider\u001b[38;5;241m=\u001b[39m\u001b[38;5;124m\"\u001b[39m\u001b[38;5;124m:\u001b[39m\u001b[38;5;124m\"\u001b[39m):\n\u001b[0;32m----> 2\u001b[0m     strval \u001b[38;5;241m=\u001b[39m \u001b[43mbyteval\u001b[49m\u001b[38;5;241;43m.\u001b[39;49m\u001b[43mdecode\u001b[49m(\u001b[38;5;124m\"\u001b[39m\u001b[38;5;124mutf-8\u001b[39m\u001b[38;5;124m\"\u001b[39m)\n\u001b[1;32m      3\u001b[0m     messages \u001b[38;5;241m=\u001b[39m strval\u001b[38;5;241m.\u001b[39msplit(\u001b[38;5;124m\"\u001b[39m\u001b[38;5;130;01m\\r\u001b[39;00m\u001b[38;5;124m\"\u001b[39m)[\u001b[38;5;241m0\u001b[39m]\u001b[38;5;241m.\u001b[39msplit(divider)\n\u001b[1;32m      4\u001b[0m     \u001b[38;5;66;03m# print(messages)\u001b[39;00m\n",
      "\u001b[0;31mAttributeError\u001b[0m: 'NoneType' object has no attribute 'decode'"
     ]
    }
   ],
   "source": [
    "msg = read_safe(ser)\n",
    "\n",
    "interpret_message(msg)"
   ]
  },
  {
   "cell_type": "code",
   "execution_count": 10,
   "id": "3135ec5d-e9bb-493a-81c2-85881939d42c",
   "metadata": {},
   "outputs": [
    {
     "name": "stdout",
     "output_type": "stream",
     "text": [
      "ETA:0\n",
      "GMN:0\n",
      "ALF:0\n",
      "EPO:0\n",
      "MES:0\n",
      "NMS:0\n",
      "NSR:0\n",
      "NTR:0\n",
      "NEG:0\n",
      "NDR:0\n",
      "NDS:0\n",
      "ETA:0\n",
      "GMN:0\n",
      "ALF:0\n",
      "EPO:0\n",
      "MES:0\n",
      "NMS:0\n",
      "NSR:0\n",
      "NTR:0\n",
      "NEG:0\n",
      "NDR:0\n",
      "NDS:0\n"
     ]
    }
   ],
   "source": [
    "send_message(\"print;\")"
   ]
  },
  {
   "cell_type": "code",
   "execution_count": 11,
   "id": "a267e227-30fd-4f61-b802-dff4743814e9",
   "metadata": {},
   "outputs": [
    {
     "name": "stdout",
     "output_type": "stream",
     "text": [
      "Code is ready to reieve parameters from Python\n",
      "ETA: 128\n",
      "GMN: 30\n",
      "ALF: 100\n",
      "EPO: 1000\n",
      "MES: 100\n",
      "NMS: 4\n",
      "NSR: 1\n",
      "NTR: 1\n",
      "NEG: 3\n",
      "NDR: 2\n",
      "NDS: 1\n",
      "Received all of the parameters;\n"
     ]
    }
   ],
   "source": [
    "new_parameters = \"receive;ETA;128;GMN;30;ALF;100;EPO;1000;MES;100;NMS;4;NSR;1;NTR;1;NEG;3;NDR;2;NDS;1;\"\n",
    "send_message(new_parameters)"
   ]
  },
  {
   "cell_type": "code",
   "execution_count": 12,
   "id": "baaf80f8-acb8-4758-9e7d-5f89cd2a59aa",
   "metadata": {},
   "outputs": [
    {
     "name": "stdout",
     "output_type": "stream",
     "text": [
      "ETA:128\n",
      "GMN:30\n",
      "ALF:100\n",
      "EPO:1000\n",
      "MES:100\n",
      "NMS:4\n",
      "NSR:1\n",
      "NTR:1\n",
      "NEG:3\n",
      "NDR:2\n",
      "NDS:1\n"
     ]
    }
   ],
   "source": [
    "send_message(\"print;\")"
   ]
  },
  {
   "cell_type": "code",
   "execution_count": null,
   "id": "d5a9a55b-f63c-4bc1-bf6e-79d0b9624bb1",
   "metadata": {},
   "outputs": [],
   "source": [
    "ser.close()"
   ]
  }
 ],
 "metadata": {
  "kernelspec": {
   "display_name": "Python 3 (ipykernel)",
   "language": "python",
   "name": "python3"
  },
  "language_info": {
   "codemirror_mode": {
    "name": "ipython",
    "version": 3
   },
   "file_extension": ".py",
   "mimetype": "text/x-python",
   "name": "python",
   "nbconvert_exporter": "python",
   "pygments_lexer": "ipython3",
   "version": "3.11.6"
  }
 },
 "nbformat": 4,
 "nbformat_minor": 5
}
